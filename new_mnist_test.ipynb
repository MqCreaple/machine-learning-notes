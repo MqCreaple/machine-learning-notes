{
 "cells": [
  {
   "cell_type": "markdown",
   "metadata": {},
   "source": [
    "# New MNIST Code\n",
    "\n",
    "Same dense neural network, but written with object-oriented syntax."
   ]
  },
  {
   "cell_type": "code",
   "execution_count": 1,
   "metadata": {},
   "outputs": [],
   "source": [
    "import numpy as np\n",
    "import os\n",
    "\n",
    "class NeuralNetwork:\n",
    "    @staticmethod\n",
    "    def sigmoid(x):\n",
    "        return 1 / (1 + np.exp(-x))\n",
    "    @staticmethod\n",
    "    def sigmoid_(x):\n",
    "        return NeuralNetwork.sigmoid(x) * (1 - NeuralNetwork.sigmoid(x))\n",
    "    @staticmethod\n",
    "    def mae(answer, expected):\n",
    "        return np.sum((answer - expected) ** 2)\n",
    "    @staticmethod\n",
    "    def mae_(answer, expected):\n",
    "        return 2 * (answer - expected)\n",
    "    @staticmethod\n",
    "    def l1(answer, expected):\n",
    "        return np.sum(np.abs(answer - expected))\n",
    "    @staticmethod\n",
    "    def l1_(answer, expected):\n",
    "        return np.sign(answer - expected)\n",
    "    @staticmethod\n",
    "    def crossEntropy(answer, expected):\n",
    "        return -np.sum(expected * np.log(answer)) - np.sum((1 - expected) * np.log(1 - answer))\n",
    "    @staticmethod\n",
    "    def crossEntropy_(answer, expected):\n",
    "        return -expected / answer + (1 - expected) / (1 - answer)\n",
    "\n",
    "    def __init__(self, *args, **kwargs):\n",
    "        self.weight = [np.random.randn(args[i+1], args[i]) for i in range(len(args) - 1)]\n",
    "        self.bias = [np.random.randn(args[i+1]) for i in range(len(args) - 1)]\n",
    "        self.activation, self.activation_ = kwargs.get('activation', (NeuralNetwork.sigmoid, NeuralNetwork.sigmoid_))\n",
    "        self.errorFunc, self.errorFunc_ = kwargs.get('errorFunc', (NeuralNetwork.mae, NeuralNetwork.mae_))\n",
    "        self.learnRate = kwargs.get('learnRate', 0.01)\n",
    "        self.gradient_clip_threshold = kwargs.get('gradient_clip_threshold', None)\n",
    "\n",
    "    def predict(self, inputData):\n",
    "        \"\"\"\n",
    "        Give the set of all the activation values on the network when given a set of input data.\n",
    "        `inputData` is a 2D numpy array, with its first index being the index of patches\n",
    "        and the second index being the index of input neuron in one patch.\n",
    "        Or: `inputData[k, i]` is the value of the i-th input neuron in the k-th patch.\n",
    "        \"\"\"\n",
    "        if len(inputData.shape) == 1:\n",
    "            inputData = inputData.reshape(1, inputData.shape[0])\n",
    "        ans = [(None, inputData)]\n",
    "        for i in range(len(self.bias)):\n",
    "            before = np.matmul(ans[-1][1], self.weight[i].T) + self.bias[i]\n",
    "            ans.append((before, self.activation(before)))\n",
    "        return ans\n",
    "    def apply(self, inputData):\n",
    "        return self.predict(inputData)[-1][1]\n",
    "\n",
    "    def backPropagate(self, predicted, outputErr):\n",
    "        \"\"\"\n",
    "        Get the partial derivatives of the error function over the input values of each layer.\n",
    "        `predicted` is the return value of `predict`.\n",
    "        `outputErr` is the partial derivatives of the error function over the output values of the last layer.\n",
    "        `outputErr[k, i]` is the partial derivative of the error function over the output value of the i-th neuron in the k-th patch.\n",
    "        \"\"\"\n",
    "        ans = [outputErr]\n",
    "        for i in reversed(range(len(self.bias))):\n",
    "            gradient = np.matmul(ans[0] * self.activation_(predicted[i+1][0]), self.weight[i])\n",
    "            if np.average(gradient * gradient) > self.gradient_clip_threshold * self.gradient_clip_threshold:\n",
    "                gradient = gradient / np.sqrt(np.average(gradient * gradient)) * self.gradient_clip_threshold\n",
    "            ans.insert(0, gradient)\n",
    "        return ans\n",
    "\n",
    "    def update(self, predicted, partials):\n",
    "        batch_size = predicted[0][1].shape[0]\n",
    "        bias_ = [partials[i+1] * self.activation_(predicted[i+1][0]) for i in range(len(self.bias))]\n",
    "        weight_ = [np.matmul(np.transpose(bias_[i]), predicted[i][1]) / batch_size for i in range(len(self.weight))]\n",
    "        for i in range(len(self.bias)):\n",
    "            bias_[i] = np.mean(bias_[i], axis=0)\n",
    "            self.bias[i] -= self.learnRate * bias_[i]\n",
    "            self.weight[i] -= self.learnRate * weight_[i]\n",
    "\n",
    "    def save_model(self, path, name):\n",
    "        for i, weight in enumerate(self.weight):\n",
    "            np.save(os.path.join(path, name + '_weight_' + str(i) + '.npy'), weight)\n",
    "        for i, bias in enumerate(self.bias):\n",
    "            np.save(os.path.join(path, name + '_bias_' + str(i) + '.npy'), bias)\n",
    "    \n",
    "    def load_model(self, path, name, num_layers):\n",
    "        self.weight = [np.load(os.path.join(path, name + '_weight_' + str(i) + '.npy')) for i in range(num_layers)]\n",
    "        self.bias = [np.load(os.path.join(path, name + '_bias_' + str(i) + '.npy')) for i in range(num_layers)]"
   ]
  },
  {
   "cell_type": "code",
   "execution_count": 2,
   "metadata": {},
   "outputs": [
    {
     "name": "stdout",
     "output_type": "stream",
     "text": [
      "784\n"
     ]
    }
   ],
   "source": [
    "import csv\n",
    "import numpy as np\n",
    "\n",
    "with open(\"train.csv\") as trainFile:\n",
    "    train = list(csv.reader(trainFile))\n",
    "    label = np.array([train[i][0] for i in range(1, len(train))], dtype=np.int32)\n",
    "    image = np.array([np.array(train[i][1:], dtype=float) / 255 for i in range(1, len(train))])\n",
    "\n",
    "print(len(image[0]))"
   ]
  },
  {
   "cell_type": "code",
   "execution_count": 3,
   "metadata": {},
   "outputs": [
    {
     "name": "stdout",
     "output_type": "stream",
     "text": [
      "1\n"
     ]
    },
    {
     "data": {
      "image/png": "[encoded data removed]",
      "text/plain": [
       "<Figure size 640x480 with 1 Axes>"
      ]
     },
     "metadata": {},
     "output_type": "display_data"
    }
   ],
   "source": [
    "import matplotlib.pyplot as plt\n",
    "plt.imshow(image[0].reshape(28, 28))\n",
    "print(label[0])"
   ]
  },
  {
   "cell_type": "code",
   "execution_count": 4,
   "metadata": {},
   "outputs": [],
   "source": [
    "model = NeuralNetwork(784, 16, 16, 10, activation=(NeuralNetwork.sigmoid, NeuralNetwork.sigmoid_), errorFunc=(NeuralNetwork.crossEntropy, NeuralNetwork.crossEntropy_))"
   ]
  },
  {
   "cell_type": "code",
   "execution_count": 5,
   "metadata": {},
   "outputs": [
    {
     "name": "stdout",
     "output_type": "stream",
     "text": [
      "--- before training ---\n",
      "[[0.7699123  0.31191473 0.53153798 0.99728511 0.20944066 0.95577565\n",
      "  0.27314494 0.5014884  0.03800539 0.89587447]]\n",
      "15.971178441337859\n",
      "--- after training ---\n",
      "[[0.75384879 0.34231231 0.48126334 0.99677399 0.24333042 0.94776307\n",
      "  0.30160302 0.48118043 0.03753589 0.87819572]]\n",
      "15.256269750832995\n"
     ]
    }
   ],
   "source": [
    "# training 1 step\n",
    "inputData = image[0].reshape(1, 784)\n",
    "expected = np.zeros(10)\n",
    "expected[int(label[0])] = 1\n",
    "predicted = model.predict(inputData)\n",
    "print(\"--- before training ---\")\n",
    "print(predicted[-1][1])\n",
    "print(model.errorFunc(predicted[-1][1], expected))\n",
    "partials = model.backPropagate(predicted, model.errorFunc_(predicted[-1][1], expected))\n",
    "model.update(predicted, partials)\n",
    "predicted = model.predict(inputData)\n",
    "print(\"--- after training ---\")\n",
    "print(predicted[-1][1])\n",
    "print(model.errorFunc(predicted[-1][1], expected))"
   ]
  },
  {
   "cell_type": "code",
   "execution_count": 6,
   "metadata": {},
   "outputs": [
    {
     "name": "stderr",
     "output_type": "stream",
     "text": [
      "  0%|          | 0/1000000 [00:00<?, ?it/s]"
     ]
    },
    {
     "name": "stderr",
     "output_type": "stream",
     "text": [
      "100%|██████████| 1000000/1000000 [18:02<00:00, 923.80it/s] \n"
     ]
    }
   ],
   "source": [
    "from tqdm import tqdm\n",
    "\n",
    "batch_size = 8\n",
    "training_accuracies = []\n",
    "DATA_PER_RECORD = 50000\n",
    "\n",
    "for i in tqdm(range(1000000)):\n",
    "    # select 8 random indices from the train set and use them as the input data\n",
    "    indices = np.random.choice(len(image), batch_size, replace=False).astype(np.int32)\n",
    "    inputData = image[indices]\n",
    "    expected = np.zeros((batch_size, 10))\n",
    "    expected[np.arange(batch_size), label[indices[np.arange(batch_size)]].astype(np.int32)] = 1\n",
    "    # train the model\n",
    "    predicted = model.predict(inputData)\n",
    "    error = model.errorFunc(predicted[-1][1], expected)\n",
    "    if i % DATA_PER_RECORD == 0:\n",
    "        # calculate training accuracy\n",
    "        correct = 0\n",
    "        for j in range(len(image)):\n",
    "            if np.argmax(model.apply(image[j])) == int(label[j]):\n",
    "                correct += 1\n",
    "        training_accuracies.append(correct / len(image))\n",
    "    partials = model.backPropagate(predicted, model.errorFunc_(predicted[-1][1], expected))\n",
    "    model.update(predicted, partials)"
   ]
  },
  {
   "cell_type": "code",
   "execution_count": 12,
   "metadata": {},
   "outputs": [
    {
     "data": {
      "image/png": "[encoded data removed]",
      "text/plain": [
       "<Figure size 640x480 with 1 Axes>"
      ]
     },
     "metadata": {},
     "output_type": "display_data"
    },
    {
     "name": "stdout",
     "output_type": "stream",
     "text": [
      "[0.10478571428571429, 0.8257142857142857, 0.8817142857142857, 0.9023333333333333, 0.9142380952380952, 0.9212142857142858, 0.9266428571428571, 0.9322619047619047, 0.9354285714285714, 0.9397619047619048, 0.9426428571428571, 0.9447619047619048, 0.947, 0.9477142857142857, 0.9497619047619048, 0.9510238095238095, 0.9523809523809523, 0.9540714285714286, 0.955, 0.9566904761904762]\n"
     ]
    }
   ],
   "source": [
    "# plot training accuracy data\n",
    "plt.plot(training_accuracies)\n",
    "plt.show()\n",
    "print(training_accuracies)"
   ]
  },
  {
   "cell_type": "code",
   "execution_count": 8,
   "metadata": {},
   "outputs": [],
   "source": [
    "with open(\"test.csv\") as testFile:\n",
    "    test = list(csv.reader(testFile))\n",
    "    testImage = [np.array(test[i], dtype=float) / 255 for i in range(1, len(test))]"
   ]
  },
  {
   "cell_type": "code",
   "execution_count": 9,
   "metadata": {},
   "outputs": [
    {
     "data": {
      "text/plain": [
       "array([[5.78267166e-04, 2.31839329e-03, 9.94934276e-01, 9.82691365e-03,\n",
       "        1.07153729e-05, 2.09335394e-06, 2.08760325e-04, 1.81883725e-03,\n",
       "        7.50328003e-03, 1.05471282e-05]])"
      ]
     },
     "execution_count": 9,
     "metadata": {},
     "output_type": "execute_result"
    },
    {
     "data": {
      "image/png": "[encoded data removed]",
      "text/plain": [
       "<Figure size 640x480 with 1 Axes>"
      ]
     },
     "metadata": {},
     "output_type": "display_data"
    }
   ],
   "source": [
    "plt.imshow(testImage[0].reshape(28, 28))\n",
    "model.predict(testImage[0])[3][1]"
   ]
  },
  {
   "cell_type": "code",
   "execution_count": 11,
   "metadata": {},
   "outputs": [
    {
     "data": {
      "image/png": "[encoded data removed]",
      "text/plain": [
       "<Figure size 640x480 with 1 Axes>"
      ]
     },
     "metadata": {},
     "output_type": "display_data"
    },
    {
     "name": "stdout",
     "output_type": "stream",
     "text": [
      "label: 8\n",
      "total= 0 ; correct= 0\n"
     ]
    }
   ],
   "source": [
    "toNext = True\n",
    "total = 0\n",
    "correct = 0\n",
    "\n",
    "while toNext:\n",
    "    index = np.random.randint(len(testImage))\n",
    "    plt.imshow(testImage[index].reshape(28, 28))\n",
    "    plt.show()\n",
    "    print(\"label:\", np.argmax(model.apply(testImage[index])))\n",
    "    result = input()\n",
    "    if result == \"q\" or result == \"Q\" or result == \"f\" or result == \"F\":\n",
    "        toNext = False\n",
    "    elif result == \"r\" or result == \"c\" or result == \"R\" or result == \"C\" or result == \"t\" or result == \"T\":\n",
    "        correct += 1\n",
    "        total += 1\n",
    "    else:\n",
    "        total += 1\n",
    "    \n",
    "print(\"total=\", total, \"; correct=\", correct)"
   ]
  },
  {
   "cell_type": "code",
   "execution_count": null,
   "metadata": {},
   "outputs": [],
   "source": []
  }
 ],
 "metadata": {
  "kernelspec": {
   "display_name": "Python 3",
   "language": "python",
   "name": "python3"
  },
  "language_info": {
   "codemirror_mode": {
    "name": "ipython",
    "version": 3
   },
   "file_extension": ".py",
   "mimetype": "text/x-python",
   "name": "python",
   "nbconvert_exporter": "python",
   "pygments_lexer": "ipython3",
   "version": "3.10.11"
  }
 },
 "nbformat": 4,
 "nbformat_minor": 2
}
